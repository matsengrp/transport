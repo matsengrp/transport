{
 "cells": [
  {
   "cell_type": "code",
   "execution_count": 1,
   "metadata": {},
   "outputs": [
    {
     "data": {
      "application/javascript": [
       "IPython.OutputArea.prototype._should_scroll = function(lines) {\n",
       "    return false;\n",
       "}"
      ],
      "text/plain": [
       "<IPython.core.display.Javascript object>"
      ]
     },
     "metadata": {},
     "output_type": "display_data"
    }
   ],
   "source": [
    "%%javascript\n",
    "IPython.OutputArea.prototype._should_scroll = function(lines) {\n",
    "    return false;\n",
    "}"
   ]
  },
  {
   "cell_type": "code",
   "execution_count": 2,
   "metadata": {},
   "outputs": [
    {
     "name": "stderr",
     "output_type": "stream",
     "text": [
      "/home/bolson2/Software/anaconda2/lib/python2.7/site-packages/scipy/sparse/lil.py:19: RuntimeWarning: numpy.dtype size changed, may indicate binary incompatibility. Expected 96, got 88\n",
      "  from . import _csparsetools\n",
      "/home/bolson2/Software/anaconda2/lib/python2.7/site-packages/scipy/sparse/csgraph/__init__.py:165: RuntimeWarning: numpy.dtype size changed, may indicate binary incompatibility. Expected 96, got 88\n",
      "  from ._shortest_path import shortest_path, floyd_warshall, dijkstra,\\\n",
      "/home/bolson2/Software/anaconda2/lib/python2.7/site-packages/scipy/sparse/csgraph/_validation.py:5: RuntimeWarning: numpy.dtype size changed, may indicate binary incompatibility. Expected 96, got 88\n",
      "  from ._tools import csgraph_to_dense, csgraph_from_dense,\\\n",
      "/home/bolson2/Software/anaconda2/lib/python2.7/site-packages/scipy/sparse/csgraph/__init__.py:167: RuntimeWarning: numpy.dtype size changed, may indicate binary incompatibility. Expected 96, got 88\n",
      "  from ._traversal import breadth_first_order, depth_first_order, \\\n",
      "/home/bolson2/Software/anaconda2/lib/python2.7/site-packages/scipy/sparse/csgraph/__init__.py:169: RuntimeWarning: numpy.dtype size changed, may indicate binary incompatibility. Expected 96, got 88\n",
      "  from ._min_spanning_tree import minimum_spanning_tree\n",
      "/home/bolson2/Software/anaconda2/lib/python2.7/site-packages/scipy/sparse/csgraph/__init__.py:170: RuntimeWarning: numpy.dtype size changed, may indicate binary incompatibility. Expected 96, got 88\n",
      "  from ._reordering import reverse_cuthill_mckee, maximum_bipartite_matching, \\\n",
      "/home/bolson2/Software/anaconda2/lib/python2.7/site-packages/ot/lp/__init__.py:17: RuntimeWarning: numpy.dtype size changed, may indicate binary incompatibility. Expected 96, got 88\n",
      "  from .emd_wrap import emd_c, check_result\n",
      "/home/bolson2/Software/anaconda2/lib/python2.7/site-packages/scipy/spatial/__init__.py:95: RuntimeWarning: numpy.dtype size changed, may indicate binary incompatibility. Expected 96, got 88\n",
      "  from .ckdtree import *\n",
      "/home/bolson2/Software/anaconda2/lib/python2.7/site-packages/scipy/spatial/__init__.py:96: RuntimeWarning: numpy.dtype size changed, may indicate binary incompatibility. Expected 96, got 88\n",
      "  from .qhull import *\n",
      "/home/bolson2/Software/anaconda2/lib/python2.7/site-packages/scipy/spatial/_spherical_voronoi.py:18: RuntimeWarning: numpy.dtype size changed, may indicate binary incompatibility. Expected 96, got 88\n",
      "  from . import _voronoi\n",
      "/home/bolson2/Software/anaconda2/lib/python2.7/site-packages/scipy/spatial/distance.py:122: RuntimeWarning: numpy.dtype size changed, may indicate binary incompatibility. Expected 96, got 88\n",
      "  from . import _hausdorff\n",
      "/home/bolson2/Software/anaconda2/lib/python2.7/site-packages/scipy/linalg/basic.py:17: RuntimeWarning: numpy.dtype size changed, may indicate binary incompatibility. Expected 96, got 88\n",
      "  from ._solve_toeplitz import levinson\n",
      "/home/bolson2/Software/anaconda2/lib/python2.7/site-packages/scipy/linalg/__init__.py:207: RuntimeWarning: numpy.dtype size changed, may indicate binary incompatibility. Expected 96, got 88\n",
      "  from ._decomp_update import *\n",
      "/home/bolson2/Software/anaconda2/lib/python2.7/site-packages/scipy/special/__init__.py:640: RuntimeWarning: numpy.dtype size changed, may indicate binary incompatibility. Expected 96, got 88\n",
      "  from ._ufuncs import *\n",
      "/home/bolson2/Software/anaconda2/lib/python2.7/site-packages/scipy/special/_ellip_harm.py:7: RuntimeWarning: numpy.dtype size changed, may indicate binary incompatibility. Expected 96, got 88\n",
      "  from ._ellip_harm_2 import _ellipsoid, _ellipsoid_norm\n",
      "/home/bolson2/Software/anaconda2/lib/python2.7/site-packages/scipy/optimize/_trlib/__init__.py:1: RuntimeWarning: numpy.dtype size changed, may indicate binary incompatibility. Expected 96, got 88\n",
      "  from ._trlib import TRLIBQuadraticSubproblem\n",
      "/home/bolson2/Software/anaconda2/lib/python2.7/site-packages/scipy/optimize/_numdiff.py:10: RuntimeWarning: numpy.dtype size changed, may indicate binary incompatibility. Expected 96, got 88\n",
      "  from ._group_columns import group_dense, group_sparse\n",
      "/home/bolson2/Software/anaconda2/lib/python2.7/site-packages/scipy/interpolate/_bsplines.py:10: RuntimeWarning: numpy.dtype size changed, may indicate binary incompatibility. Expected 96, got 88\n",
      "  from . import _bspl\n",
      "/home/bolson2/Software/anaconda2/lib/python2.7/site-packages/scipy/stats/_continuous_distns.py:18: RuntimeWarning: numpy.dtype size changed, may indicate binary incompatibility. Expected 96, got 88\n",
      "  from . import _stats\n",
      "/home/bolson2/Software/anaconda2/lib/python2.7/site-packages/statsmodels/nonparametric/kde.py:22: RuntimeWarning: numpy.dtype size changed, may indicate binary incompatibility. Expected 96, got 88\n",
      "  from .linbin import fast_linbin\n",
      "/home/bolson2/Software/anaconda2/lib/python2.7/site-packages/statsmodels/nonparametric/smoothers_lowess.py:11: RuntimeWarning: numpy.dtype size changed, may indicate binary incompatibility. Expected 96, got 88\n",
      "  from ._smoothers_lowess import lowess as _lowess\n",
      "/home/bolson2/Software/anaconda2/lib/python2.7/site-packages/scipy/cluster/vq.py:78: RuntimeWarning: numpy.dtype size changed, may indicate binary incompatibility. Expected 96, got 88\n",
      "  from . import _vq\n",
      "/home/bolson2/Software/anaconda2/lib/python2.7/site-packages/scipy/cluster/hierarchy.py:178: RuntimeWarning: numpy.dtype size changed, may indicate binary incompatibility. Expected 96, got 88\n",
      "  from . import _hierarchy, _optimal_leaf_ordering\n",
      "/home/bolson2/Software/anaconda2/lib/python2.7/site-packages/tables/__init__.py:93: RuntimeWarning: numpy.dtype size changed, may indicate binary incompatibility. Expected 96, got 88\n",
      "  from .utilsextension import (\n",
      "/home/bolson2/Software/anaconda2/lib/python2.7/site-packages/tables/file.py:35: RuntimeWarning: numpy.dtype size changed, may indicate binary incompatibility. Expected 96, got 88\n",
      "  from . import hdf5extension\n",
      "/home/bolson2/Software/anaconda2/lib/python2.7/site-packages/tables/link.py:33: RuntimeWarning: numpy.dtype size changed, may indicate binary incompatibility. Expected 96, got 88\n",
      "  from . import linkextension\n",
      "/home/bolson2/Software/anaconda2/lib/python2.7/site-packages/tables/table.py:28: RuntimeWarning: numpy.dtype size changed, may indicate binary incompatibility. Expected 96, got 88\n",
      "  from . import tableextension\n",
      "/home/bolson2/Software/anaconda2/lib/python2.7/site-packages/tables/index.py:33: RuntimeWarning: numpy.dtype size changed, may indicate binary incompatibility. Expected 96, got 88\n",
      "  from . import indexesextension\n"
     ]
    }
   ],
   "source": [
    "import math\n",
    "import matplotlib.pyplot as plt\n",
    "import numpy as np\n",
    "import pandas as pd\n",
    "import ot\n",
    "import random\n",
    "import re\n",
    "import seaborn as sns; sns.set()\n",
    "import tables\n",
    "\n",
    "from collections import Counter\n",
    "\n",
    "def get_sinkhorn_objects(x, y, C, lam=0.1):\n",
    "    \"\"\" Compute the Sinkhorn distance and transport matrix of distributions x and y  with respect to cost matrix C.\n",
    "        lambda is the regularization parameter; small lambda => closer to Wasserstein distance.\n",
    "        Return a dict of the distance and matrix. \"\"\"\n",
    "    dist = ot.sinkhorn2(x, y, C, lam)\n",
    "    mat = ot.sinkhorn(x, y, C, lam)\n",
    "    hadamard = np.multiply(C, mat)\n",
    "\n",
    "    return dict([(\"distance\", dist), (\"matrix\", mat), (\"Hadamard\", hadamard)])\n",
    "\n",
    "def get_empirical_distribution(df, n=10):\n",
    "    \"\"\" Compute the frequency distribution of each TCR based on its clone_size count.\n",
    "        n is the root for which each frequency is taken and scaled accordingly. \n",
    "        Return a vector of empirical probabilities. \"\"\"\n",
    "    clone_sizes = df['clone_size']\n",
    "    return [1/len(clone_sizes)]*len(clone_sizes)\n",
    "    #return clone_sizes**(1/n)/np.sum(clone_sizes**(1/n))\n",
    "    \n",
    "def collapse_alleles(gene_list):\n",
    "    \"\"\" Collapse genes by allele, \n",
    "        e.g. transform 'TRBV12-1*02 to 'TRBV12-1' \n",
    "    \"\"\"\n",
    "    collapsed_genes = [re.sub('\\*\\d+', '', gene) for gene in gene_list]\n",
    "    return collapsed_genes\n",
    "\n",
    "def process_gene_columns(df, genes):\n",
    "    \"\"\" Collapse genes by allele for each column in  genes,\n",
    "        and copy the uncollapsed gene values to another column suffixed with '_allele'\n",
    "    \"\"\"\n",
    "    for gene in genes:\n",
    "        df[gene + '_allele'] = df[gene]\n",
    "        df[gene] = collapse_alleles(df[gene])\n",
    "        \n",
    "    df['v_gene_pair'] = df['va_gene'] + df['vb_gene']\n",
    "    df['j_gene_pair'] = df['ja_gene'] + df['jb_gene']\n",
    "    \n",
    "    return df\n"
   ]
  },
  {
   "cell_type": "code",
   "execution_count": 3,
   "metadata": {},
   "outputs": [],
   "source": [
    "# Read in and preprocess the data\n",
    "do_full = True\n",
    "if do_full:\n",
    "    clone_df = pd.read_csv(\"Data/all_IELrep_beta_chains.tsv\", sep=\"\\t\")\n",
    "    # dist_df = tables.open_file(\"Data/all_IELrep_beta_distances.txt\")\n",
    "else:\n",
    "    clone_df = pd.read_csv(\"Data/tmp_mouse_clones.tsv\", sep=\"\\t\")\n",
    "    clone_df['subject'] = [int(subject[-2:]) for subject in clone_df['subject']]\n",
    "    dist_df = pd.read_csv(\"Data/tmp_mouse_clones_AB.dist\", sep=\" \", header=None, mode='r')\n",
    "    dist_df = dist_df.drop(dist_df.columns[0], axis=1)\n",
    "    dist_df = dist_df/np.max(dist_df)\n",
    "\n",
    "\n",
    "clone_df['clone_freq'] = clone_df['clone_size']/np.sum(clone_df['clone_size'])\n",
    "# Only keep last two digits of subject id (there are 78 ids total)\n",
    "clone_df = process_gene_columns(clone_df, genes=['va_gene', 'vb_gene', 'ja_gene', 'jb_gene'])"
   ]
  },
  {
   "cell_type": "code",
   "execution_count": 71,
   "metadata": {},
   "outputs": [
    {
     "data": {
      "text/plain": [
       "32"
      ]
     },
     "execution_count": 71,
     "metadata": {},
     "output_type": "execute_result"
    }
   ],
   "source": [
    "dist_df = np.memmap(\"Data/all_IELrep_beta_distances.txt\", shape=(35173, 35173))\n",
    "dist_df.shape\n"
   ]
  },
  {
   "cell_type": "code",
   "execution_count": 58,
   "metadata": {},
   "outputs": [
    {
     "ename": "IndexError",
     "evalue": "index 0 is out of bounds for axis 1 with size 0",
     "output_type": "error",
     "traceback": [
      "\u001b[0;31m---------------------------------------------------------------------------\u001b[0m",
      "\u001b[0;31mIndexError\u001b[0m                                Traceback (most recent call last)",
      "\u001b[0;32m<ipython-input-58-eefb1280890a>\u001b[0m in \u001b[0;36m<module>\u001b[0;34m()\u001b[0m\n\u001b[0;32m----> 1\u001b[0;31m \u001b[0mdist_df\u001b[0m\u001b[0;34m[\u001b[0m\u001b[0;36m0\u001b[0m\u001b[0;34m,\u001b[0m \u001b[0;36m0\u001b[0m\u001b[0;34m]\u001b[0m\u001b[0;34m\u001b[0m\u001b[0m\n\u001b[0m",
      "\u001b[0;32m/home/bolson2/Software/anaconda2/lib/python2.7/site-packages/numpy/core/memmap.pyc\u001b[0m in \u001b[0;36m__getitem__\u001b[0;34m(self, index)\u001b[0m\n\u001b[1;32m    333\u001b[0m \u001b[0;34m\u001b[0m\u001b[0m\n\u001b[1;32m    334\u001b[0m     \u001b[0;32mdef\u001b[0m \u001b[0m__getitem__\u001b[0m\u001b[0;34m(\u001b[0m\u001b[0mself\u001b[0m\u001b[0;34m,\u001b[0m \u001b[0mindex\u001b[0m\u001b[0;34m)\u001b[0m\u001b[0;34m:\u001b[0m\u001b[0;34m\u001b[0m\u001b[0m\n\u001b[0;32m--> 335\u001b[0;31m         \u001b[0mres\u001b[0m \u001b[0;34m=\u001b[0m \u001b[0msuper\u001b[0m\u001b[0;34m(\u001b[0m\u001b[0mmemmap\u001b[0m\u001b[0;34m,\u001b[0m \u001b[0mself\u001b[0m\u001b[0;34m)\u001b[0m\u001b[0;34m.\u001b[0m\u001b[0m__getitem__\u001b[0m\u001b[0;34m(\u001b[0m\u001b[0mindex\u001b[0m\u001b[0;34m)\u001b[0m\u001b[0;34m\u001b[0m\u001b[0m\n\u001b[0m\u001b[1;32m    336\u001b[0m         \u001b[0;32mif\u001b[0m \u001b[0mtype\u001b[0m\u001b[0;34m(\u001b[0m\u001b[0mres\u001b[0m\u001b[0;34m)\u001b[0m \u001b[0;32mis\u001b[0m \u001b[0mmemmap\u001b[0m \u001b[0;32mand\u001b[0m \u001b[0mres\u001b[0m\u001b[0;34m.\u001b[0m\u001b[0m_mmap\u001b[0m \u001b[0;32mis\u001b[0m \u001b[0mNone\u001b[0m\u001b[0;34m:\u001b[0m\u001b[0;34m\u001b[0m\u001b[0m\n\u001b[1;32m    337\u001b[0m             \u001b[0;32mreturn\u001b[0m \u001b[0mres\u001b[0m\u001b[0;34m.\u001b[0m\u001b[0mview\u001b[0m\u001b[0;34m(\u001b[0m\u001b[0mtype\u001b[0m\u001b[0;34m=\u001b[0m\u001b[0mndarray\u001b[0m\u001b[0;34m)\u001b[0m\u001b[0;34m\u001b[0m\u001b[0m\n",
      "\u001b[0;31mIndexError\u001b[0m: index 0 is out of bounds for axis 1 with size 0"
     ]
    }
   ],
   "source": []
  },
  {
   "cell_type": "code",
   "execution_count": 9,
   "metadata": {},
   "outputs": [],
   "source": [
    "subjects = np.unique(clone_df['subject'])\n",
    "epitopes = np.unique(clone_df['epitope'])\n",
    "\n",
    "# Hash each subject to their epitope\n",
    "subject_epitopes = dict((subject, epitope) for (subject, epitope) in zip(clone_df['subject'], clone_df['epitope']))\n",
    "\n",
    "epitope_2mers = []\n",
    "for e1 in epitopes:\n",
    "    for e2 in epitopes:\n",
    "        epitope_2mers.append(e1 + e2)\n",
    "\n",
    "# Enumerate each (epitope_i, epitope_j) pair, mainly for plotting purposes \n",
    "epitope_2mer_factors = pd.factorize(epitope_2mers)\n",
    "epitope_factor_dict = dict((epitope_2mer, factor) for (epitope_2mer, factor) in zip(epitope_2mer_factors[1], epitope_2mer_factors[0]))"
   ]
  },
  {
   "cell_type": "code",
   "execution_count": 10,
   "metadata": {},
   "outputs": [],
   "source": [
    "epitope_peptides = dict([('F2', 'LSLRNPILV'), \\\n",
    "                         ('NP', 'ASNENMETM'), \\\n",
    "                         ('PA', 'SSLENFRAYV'), \\\n",
    "                         ('PB1', 'SSYRRPVGI'), \\\n",
    "                         ('m139', 'TVYGFCLL'), \\\n",
    "                         ('M38', 'SSPPMFRV'), \\\n",
    "                         ('M45', 'HGIRNASFI')])\n"
   ]
  },
  {
   "cell_type": "code",
   "execution_count": 11,
   "metadata": {},
   "outputs": [
    {
     "data": {
      "text/plain": [
       "memmap([32, 52, 32, 50, 48], dtype=uint8)"
      ]
     },
     "execution_count": 11,
     "metadata": {},
     "output_type": "execute_result"
    }
   ],
   "source": []
  },
  {
   "cell_type": "code",
   "execution_count": 34,
   "metadata": {},
   "outputs": [
    {
     "name": "stdout",
     "output_type": "stream",
     "text": [
      "[   0    1    2 ... 8742 8743 8744]\n",
      "[   0    1    2 ... 8742 8743 8744]\n",
      "(8745,)\n",
      "('Warning: numerical errors at iteration', 0)\n"
     ]
    },
    {
     "ename": "ValueError",
     "evalue": "Einstein sum subscript k does not contain the correct number of indices for operand 1.",
     "output_type": "error",
     "traceback": [
      "\u001b[0;31m---------------------------------------------------------------------------\u001b[0m",
      "\u001b[0;31mValueError\u001b[0m                                Traceback (most recent call last)",
      "\u001b[0;32m<ipython-input-34-f4c508200b05>\u001b[0m in \u001b[0;36m<module>\u001b[0;34m()\u001b[0m\n\u001b[1;32m     23\u001b[0m         \u001b[0;32mprint\u001b[0m\u001b[0;34m(\u001b[0m\u001b[0msub_dist_df\u001b[0m\u001b[0;34m.\u001b[0m\u001b[0mshape\u001b[0m\u001b[0;34m)\u001b[0m\u001b[0;34m\u001b[0m\u001b[0m\n\u001b[1;32m     24\u001b[0m         \u001b[0mdistance_matrices\u001b[0m\u001b[0;34m.\u001b[0m\u001b[0mappend\u001b[0m\u001b[0;34m(\u001b[0m\u001b[0msub_dist_df\u001b[0m\u001b[0;34m)\u001b[0m\u001b[0;34m\u001b[0m\u001b[0m\n\u001b[0;32m---> 25\u001b[0;31m         \u001b[0me1_e2_sinkhorn\u001b[0m \u001b[0;34m=\u001b[0m \u001b[0mget_sinkhorn_objects\u001b[0m\u001b[0;34m(\u001b[0m\u001b[0mepitope_freqs\u001b[0m\u001b[0;34m[\u001b[0m\u001b[0me1\u001b[0m\u001b[0;34m]\u001b[0m\u001b[0;34m,\u001b[0m \u001b[0mepitope_freqs\u001b[0m\u001b[0;34m[\u001b[0m\u001b[0me2\u001b[0m\u001b[0;34m]\u001b[0m\u001b[0;34m,\u001b[0m \u001b[0msub_dist_df\u001b[0m\u001b[0;34m)\u001b[0m\u001b[0;34m\u001b[0m\u001b[0m\n\u001b[0m\u001b[1;32m     26\u001b[0m         \u001b[0mtransport_matrices\u001b[0m\u001b[0;34m.\u001b[0m\u001b[0mappend\u001b[0m\u001b[0;34m(\u001b[0m\u001b[0me1_e2_sinkhorn\u001b[0m\u001b[0;34m[\u001b[0m\u001b[0;34m'matrix'\u001b[0m\u001b[0;34m]\u001b[0m\u001b[0;34m)\u001b[0m\u001b[0;34m\u001b[0m\u001b[0m\n\u001b[1;32m     27\u001b[0m         \u001b[0mproduct_matrices\u001b[0m\u001b[0;34m.\u001b[0m\u001b[0mappend\u001b[0m\u001b[0;34m(\u001b[0m\u001b[0mnp\u001b[0m\u001b[0;34m.\u001b[0m\u001b[0mmultiply\u001b[0m\u001b[0;34m(\u001b[0m\u001b[0msub_dist_df\u001b[0m\u001b[0;34m,\u001b[0m \u001b[0me1_e2_sinkhorn\u001b[0m\u001b[0;34m[\u001b[0m\u001b[0;34m'matrix'\u001b[0m\u001b[0;34m]\u001b[0m\u001b[0;34m)\u001b[0m\u001b[0;34m)\u001b[0m\u001b[0;34m\u001b[0m\u001b[0m\n",
      "\u001b[0;32m<ipython-input-2-9b06e5187c9e>\u001b[0m in \u001b[0;36mget_sinkhorn_objects\u001b[0;34m(x, y, C, lam)\u001b[0m\n\u001b[1;32m     14\u001b[0m         \u001b[0;32mlambda\u001b[0m \u001b[0;32mis\u001b[0m \u001b[0mthe\u001b[0m \u001b[0mregularization\u001b[0m \u001b[0mparameter\u001b[0m\u001b[0;34m;\u001b[0m \u001b[0msmall\u001b[0m \u001b[0;32mlambda\u001b[0m \u001b[0;34m=\u001b[0m\u001b[0;34m>\u001b[0m \u001b[0mcloser\u001b[0m \u001b[0mto\u001b[0m \u001b[0mWasserstein\u001b[0m \u001b[0mdistance\u001b[0m\u001b[0;34m.\u001b[0m\u001b[0;34m\u001b[0m\u001b[0m\n\u001b[1;32m     15\u001b[0m         Return a dict of the distance and matrix. \"\"\"\n\u001b[0;32m---> 16\u001b[0;31m     \u001b[0mdist\u001b[0m \u001b[0;34m=\u001b[0m \u001b[0mot\u001b[0m\u001b[0;34m.\u001b[0m\u001b[0msinkhorn2\u001b[0m\u001b[0;34m(\u001b[0m\u001b[0mx\u001b[0m\u001b[0;34m,\u001b[0m \u001b[0my\u001b[0m\u001b[0;34m,\u001b[0m \u001b[0mC\u001b[0m\u001b[0;34m,\u001b[0m \u001b[0mlam\u001b[0m\u001b[0;34m)\u001b[0m\u001b[0;34m\u001b[0m\u001b[0m\n\u001b[0m\u001b[1;32m     17\u001b[0m     \u001b[0mmat\u001b[0m \u001b[0;34m=\u001b[0m \u001b[0mot\u001b[0m\u001b[0;34m.\u001b[0m\u001b[0msinkhorn\u001b[0m\u001b[0;34m(\u001b[0m\u001b[0mx\u001b[0m\u001b[0;34m,\u001b[0m \u001b[0my\u001b[0m\u001b[0;34m,\u001b[0m \u001b[0mC\u001b[0m\u001b[0;34m,\u001b[0m \u001b[0mlam\u001b[0m\u001b[0;34m)\u001b[0m\u001b[0;34m\u001b[0m\u001b[0m\n\u001b[1;32m     18\u001b[0m     \u001b[0mhadamard\u001b[0m \u001b[0;34m=\u001b[0m \u001b[0mnp\u001b[0m\u001b[0;34m.\u001b[0m\u001b[0mmultiply\u001b[0m\u001b[0;34m(\u001b[0m\u001b[0mC\u001b[0m\u001b[0;34m,\u001b[0m \u001b[0mmat\u001b[0m\u001b[0;34m)\u001b[0m\u001b[0;34m\u001b[0m\u001b[0m\n",
      "\u001b[0;32m/home/bolson2/Software/anaconda2/lib/python2.7/site-packages/ot/bregman.pyc\u001b[0m in \u001b[0;36msinkhorn2\u001b[0;34m(a, b, M, reg, method, numItermax, stopThr, verbose, log, **kwargs)\u001b[0m\n\u001b[1;32m    240\u001b[0m         \u001b[0mb\u001b[0m \u001b[0;34m=\u001b[0m \u001b[0mb\u001b[0m\u001b[0;34m.\u001b[0m\u001b[0mreshape\u001b[0m\u001b[0;34m(\u001b[0m\u001b[0;34m(\u001b[0m\u001b[0;34m-\u001b[0m\u001b[0;36m1\u001b[0m\u001b[0;34m,\u001b[0m \u001b[0;36m1\u001b[0m\u001b[0;34m)\u001b[0m\u001b[0;34m)\u001b[0m\u001b[0;34m\u001b[0m\u001b[0m\n\u001b[1;32m    241\u001b[0m \u001b[0;34m\u001b[0m\u001b[0m\n\u001b[0;32m--> 242\u001b[0;31m     \u001b[0;32mreturn\u001b[0m \u001b[0msink\u001b[0m\u001b[0;34m(\u001b[0m\u001b[0;34m)\u001b[0m\u001b[0;34m\u001b[0m\u001b[0m\n\u001b[0m\u001b[1;32m    243\u001b[0m \u001b[0;34m\u001b[0m\u001b[0m\n\u001b[1;32m    244\u001b[0m \u001b[0;34m\u001b[0m\u001b[0m\n",
      "\u001b[0;32m/home/bolson2/Software/anaconda2/lib/python2.7/site-packages/ot/bregman.pyc\u001b[0m in \u001b[0;36msink\u001b[0;34m()\u001b[0m\n\u001b[1;32m    220\u001b[0m         \u001b[0;32mdef\u001b[0m \u001b[0msink\u001b[0m\u001b[0;34m(\u001b[0m\u001b[0;34m)\u001b[0m\u001b[0;34m:\u001b[0m\u001b[0;34m\u001b[0m\u001b[0m\n\u001b[1;32m    221\u001b[0m             return sinkhorn_knopp(a, b, M, reg, numItermax=numItermax,\n\u001b[0;32m--> 222\u001b[0;31m                                   stopThr=stopThr, verbose=verbose, log=log, **kwargs)\n\u001b[0m\u001b[1;32m    223\u001b[0m     \u001b[0;32melif\u001b[0m \u001b[0mmethod\u001b[0m\u001b[0;34m.\u001b[0m\u001b[0mlower\u001b[0m\u001b[0;34m(\u001b[0m\u001b[0;34m)\u001b[0m \u001b[0;34m==\u001b[0m \u001b[0;34m'sinkhorn_stabilized'\u001b[0m\u001b[0;34m:\u001b[0m\u001b[0;34m\u001b[0m\u001b[0m\n\u001b[1;32m    224\u001b[0m         \u001b[0;32mdef\u001b[0m \u001b[0msink\u001b[0m\u001b[0;34m(\u001b[0m\u001b[0;34m)\u001b[0m\u001b[0;34m:\u001b[0m\u001b[0;34m\u001b[0m\u001b[0m\n",
      "\u001b[0;32m/home/bolson2/Software/anaconda2/lib/python2.7/site-packages/ot/bregman.pyc\u001b[0m in \u001b[0;36msinkhorn_knopp\u001b[0;34m(a, b, M, reg, numItermax, stopThr, verbose, log, **kwargs)\u001b[0m\n\u001b[1;32m    404\u001b[0m \u001b[0;34m\u001b[0m\u001b[0m\n\u001b[1;32m    405\u001b[0m     \u001b[0;32mif\u001b[0m \u001b[0mnbb\u001b[0m\u001b[0;34m:\u001b[0m  \u001b[0;31m# return only loss\u001b[0m\u001b[0;34m\u001b[0m\u001b[0m\n\u001b[0;32m--> 406\u001b[0;31m         \u001b[0mres\u001b[0m \u001b[0;34m=\u001b[0m \u001b[0mnp\u001b[0m\u001b[0;34m.\u001b[0m\u001b[0meinsum\u001b[0m\u001b[0;34m(\u001b[0m\u001b[0;34m'ik,ij,jk,ij->k'\u001b[0m\u001b[0;34m,\u001b[0m \u001b[0mu\u001b[0m\u001b[0;34m,\u001b[0m \u001b[0mK\u001b[0m\u001b[0;34m,\u001b[0m \u001b[0mv\u001b[0m\u001b[0;34m,\u001b[0m \u001b[0mM\u001b[0m\u001b[0;34m)\u001b[0m\u001b[0;34m\u001b[0m\u001b[0m\n\u001b[0m\u001b[1;32m    407\u001b[0m         \u001b[0;32mif\u001b[0m \u001b[0mlog\u001b[0m\u001b[0;34m:\u001b[0m\u001b[0;34m\u001b[0m\u001b[0m\n\u001b[1;32m    408\u001b[0m             \u001b[0;32mreturn\u001b[0m \u001b[0mres\u001b[0m\u001b[0;34m,\u001b[0m \u001b[0mlog\u001b[0m\u001b[0;34m\u001b[0m\u001b[0m\n",
      "\u001b[0;32m/home/bolson2/Software/anaconda2/lib/python2.7/site-packages/numpy/core/einsumfunc.pyc\u001b[0m in \u001b[0;36meinsum\u001b[0;34m(*operands, **kwargs)\u001b[0m\n\u001b[1;32m   1249\u001b[0m     \u001b[0;31m# Build the contraction list and operand\u001b[0m\u001b[0;34m\u001b[0m\u001b[0;34m\u001b[0m\u001b[0m\n\u001b[1;32m   1250\u001b[0m     operands, contraction_list = einsum_path(*operands, optimize=optimize_arg,\n\u001b[0;32m-> 1251\u001b[0;31m                                              einsum_call=True)\n\u001b[0m\u001b[1;32m   1252\u001b[0m \u001b[0;34m\u001b[0m\u001b[0m\n\u001b[1;32m   1253\u001b[0m     \u001b[0mhandle_out\u001b[0m \u001b[0;34m=\u001b[0m \u001b[0mFalse\u001b[0m\u001b[0;34m\u001b[0m\u001b[0m\n",
      "\u001b[0;32m/home/bolson2/Software/anaconda2/lib/python2.7/site-packages/numpy/core/einsumfunc.pyc\u001b[0m in \u001b[0;36meinsum_path\u001b[0;34m(*operands, **kwargs)\u001b[0m\n\u001b[1;32m    853\u001b[0m             raise ValueError(\"Einstein sum subscript %s does not contain the \"\n\u001b[1;32m    854\u001b[0m                              \u001b[0;34m\"correct number of indices for operand %d.\"\u001b[0m\u001b[0;34m\u001b[0m\u001b[0m\n\u001b[0;32m--> 855\u001b[0;31m                              % (input_subscripts[tnum], tnum))\n\u001b[0m\u001b[1;32m    856\u001b[0m         \u001b[0;32mfor\u001b[0m \u001b[0mcnum\u001b[0m\u001b[0;34m,\u001b[0m \u001b[0mchar\u001b[0m \u001b[0;32min\u001b[0m \u001b[0menumerate\u001b[0m\u001b[0;34m(\u001b[0m\u001b[0mterm\u001b[0m\u001b[0;34m)\u001b[0m\u001b[0;34m:\u001b[0m\u001b[0;34m\u001b[0m\u001b[0m\n\u001b[1;32m    857\u001b[0m             \u001b[0mdim\u001b[0m \u001b[0;34m=\u001b[0m \u001b[0msh\u001b[0m\u001b[0;34m[\u001b[0m\u001b[0mcnum\u001b[0m\u001b[0;34m]\u001b[0m\u001b[0;34m\u001b[0m\u001b[0m\n",
      "\u001b[0;31mValueError\u001b[0m: Einstein sum subscript k does not contain the correct number of indices for operand 1."
     ]
    }
   ],
   "source": [
    "# Make a dictionary of epitope-specific data frames\n",
    "epitope_dfs = dict((epitope, clone_df[clone_df['epitope'] == epitope]) for epitope in epitopes)\n",
    "\n",
    "# Get empirical distributions for each epitope-specific dataset\n",
    "epitope_freqs = dict((epitope, get_empirical_distribution(epitope_dfs[epitope])) for epitope in epitopes)\n",
    "\n",
    "peptide_dists = pd.DataFrame(columns=epitopes)\n",
    "\n",
    "# Get Sinkhorn(1) distance of each (epitope_i, epitope_j) pair\n",
    "ep_dist_df = pd.DataFrame(columns=epitopes)\n",
    "distance_matrices = []\n",
    "transport_matrices = []\n",
    "product_matrices = []\n",
    "for e1 in epitopes:\n",
    "    ep_dist_df[e1] = 0\n",
    "    for e2 in epitopes:\n",
    "        row_indices = clone_df.index[clone_df['epitope'] == e1].values.astype(int)\n",
    "        column_indices = clone_df.index[clone_df['epitope'] == e2].values.astype(int)\n",
    "\n",
    "        print(row_indices)\n",
    "        print(column_indices)\n",
    "        sub_dist_df = dist_df[row_indices, column_indices]\n",
    "        print(sub_dist_df.shape)\n",
    "        distance_matrices.append(sub_dist_df)\n",
    "        e1_e2_sinkhorn = get_sinkhorn_objects(epitope_freqs[e1], epitope_freqs[e2], sub_dist_df)\n",
    "        transport_matrices.append(e1_e2_sinkhorn['matrix'])\n",
    "        product_matrices.append(np.multiply(sub_dist_df, e1_e2_sinkhorn['matrix']))\n",
    "        ep_dist_df.loc[e1, e2] = e1_e2_sinkhorn['distance']\n",
    "        ep_dist_df.loc[e2, e1] = ep_dist_df.loc[e1, e2]\n",
    "        \n",
    "    "
   ]
  },
  {
   "cell_type": "code",
   "execution_count": 38,
   "metadata": {},
   "outputs": [
    {
     "name": "stderr",
     "output_type": "stream",
     "text": [
      "/anaconda3/lib/python3.7/site-packages/ipykernel_launcher.py:1: FutureWarning: Method .as_matrix will be removed in a future version. Use .values instead.\n",
      "  \"\"\"Entry point for launching an IPython kernel.\n",
      "/anaconda3/lib/python3.7/site-packages/ipykernel_launcher.py:2: FutureWarning: Method .as_matrix will be removed in a future version. Use .values instead.\n",
      "  \n"
     ]
    },
    {
     "data": {
      "text/plain": [
       "<matplotlib.collections.PathCollection at 0x10d3aae48>"
      ]
     },
     "execution_count": 38,
     "metadata": {},
     "output_type": "execute_result"
    },
    {
     "data": {
      "image/png": "[encoded data removed]",
      "text/plain": [
       "<Figure size 432x288 with 1 Axes>"
      ]
     },
     "metadata": {
      "needs_background": "light"
     },
     "output_type": "display_data"
    }
   ],
   "source": [
    "l1 = list(peptide_dists.as_matrix())\n",
    "l2 = list(ep_dist_df.as_matrix())\n",
    "\n",
    "plt.scatter(l1, l2)"
   ]
  },
  {
   "cell_type": "markdown",
   "metadata": {},
   "source": [
    "# Per-epitope Sinkhorn distance matrix"
   ]
  },
  {
   "cell_type": "code",
   "execution_count": 40,
   "metadata": {},
   "outputs": [
    {
     "data": {
      "text/plain": [
       "<matplotlib.axes._subplots.AxesSubplot at 0x1a1bf2b1d0>"
      ]
     },
     "execution_count": 40,
     "metadata": {},
     "output_type": "execute_result"
    },
    {
     "data": {
      "image/png": "[encoded data removed]",
      "text/plain": [
       "<Figure size 576x432 with 2 Axes>"
      ]
     },
     "metadata": {
      "needs_background": "light"
     },
     "output_type": "display_data"
    }
   ],
   "source": [
    "# Heatmap of Sinkhorn distances for each (epitope_i, epitope_j) pair\n",
    "\n",
    "fig, ax = plt.subplots(figsize=(8, 6))\n",
    "sns.heatmap(ep_dist_df, vmin=0.5, vmax=0.8, annot=True, fmt=\".1f\")"
   ]
  },
  {
   "cell_type": "markdown",
   "metadata": {},
   "source": [
    "# Per-subject Sinkhorn distance matrix"
   ]
  },
  {
   "cell_type": "code",
   "execution_count": null,
   "metadata": {},
   "outputs": [],
   "source": [
    "# Visualize an example distance matrix\n",
    "fig, ax = plt.subplots(figsize=(10, 8))\n",
    "sns.heatmap(distance_matrices[1])\n",
    "\n",
    "# Visualize an example transport matrix\n",
    "fig, ax = plt.subplots(figsize=(10, 8))\n",
    "sns.heatmap(transport_matrices[1])\n",
    "\n",
    "# Visualize an example Hadamard product of distance and transport matrices\n",
    "fig, ax = plt.subplots(figsize=(10, 8))\n",
    "sns.heatmap(product_matrices[1])"
   ]
  },
  {
   "cell_type": "code",
   "execution_count": null,
   "metadata": {},
   "outputs": [],
   "source": [
    "# Make a dictionary of subject-specific data frames\n",
    "subject_dfs = dict((subject, clone_df[clone_df['subject'] == subject]) for subject in subjects)\n",
    "\n",
    "# Get empirical distributions for each subject-specific dataset\n",
    "subject_freqs = dict((subject, get_empirical_distribution(subject_dfs[subject])) for subject in subjects)\n",
    "\n",
    "# Get Sinkhorn(1) distance of each (subject_i, subject_j) pair\n",
    "subject_dist_df = pd.DataFrame(columns=subjects)\n",
    "epitope_labels = pd.DataFrame(columns=subjects)\n",
    "for s1 in subjects:\n",
    "    subject_dist_df[s1] = 0\n",
    "    epitope_labels[s1] = ''\n",
    "    for s2 in subjects:\n",
    "        # Compute sinkhorn distance of s1 and s2, and add to data frame\n",
    "        sub_dist_df = dist_df.iloc[clone_df.index[clone_df['subject'] == s1], clone_df.index[clone_df['subject'] == s2]]\n",
    "        subject_dist_df.loc[s1, s2] = get_sinkhorn_objects(subject_freqs[s1], subject_freqs[s2], sub_dist_df)['distance']\n",
    "        subject_dist_df.loc[s2, s1] = subject_dist_df.loc[s1, s2]\n",
    "        \n",
    "        # Add unique label for epitopes of s1, s2 and add to data frame\n",
    "        epitope_labels.loc[s1, s2] = epitope_factor_dict[subject_epitopes[s1] + subject_epitopes[s2]]\n",
    "        epitope_labels.loc[s2, s1] = epitope_labels.loc[s1, s2]\n",
    "        "
   ]
  },
  {
   "cell_type": "code",
   "execution_count": null,
   "metadata": {},
   "outputs": [],
   "source": [
    "# Heatmap of Sinkhorn distances for each (subject_i, subject_j) pair\n",
    "fig, ax = plt.subplots(figsize=(20,16))\n",
    "hm = sns.heatmap(subject_dist_df, fmt=\".1f\", ax=ax)\n",
    "plt.yticks(rotation=0)\n",
    "plt.savefig('subject_heatmap.png')"
   ]
  },
  {
   "cell_type": "code",
   "execution_count": null,
   "metadata": {},
   "outputs": [],
   "source": [
    "# Heatmap of enumerated labels for each (epitope_1, epitope_2) pair.\n",
    "# E.g. (\"F2\", \"F2\"), (\"M38\", \"NP\"), ...\n",
    "fig, ax = plt.subplots(figsize=(20, 16))\n",
    "\n",
    "epitope_labels = epitope_labels[epitope_labels.columns].astype(int)\n",
    "sns.heatmap(epitope_labels, fmt=\"d\",annot=True)\n",
    "plt.savefig('epitope_pairs_heatmap.png')"
   ]
  },
  {
   "cell_type": "code",
   "execution_count": null,
   "metadata": {},
   "outputs": [],
   "source": [
    "# Get Sinkhorn(1) distance of each ((subject_i, epitope_k), (subject_j, epitope_k)) pair\n",
    "subjects_per_epitope = dict()\n",
    "e_count = dict()\n",
    "for e in epitopes:\n",
    "    e_list = []\n",
    "    e_subjects = np.unique(clone_df.loc[clone_df['epitope'] == e, ]['subject'])\n",
    "    e_count[e] = clone_df[clone_df['epitope'] == e].shape[0]\n",
    "    for s1 in e_subjects:\n",
    "        for s2 in e_subjects:\n",
    "            if s1 != s2:\n",
    "                sub_dist_df = dist_df.iloc[clone_df.index[(clone_df['subject'] == s1) & (clone_df['epitope'] == e)] , clone_df.index[(clone_df['subject'] == s2) & (clone_df['epitope'] == e)]]\n",
    "                freqs_1 = get_empirical_distribution(clone_df[(clone_df['subject'] == s1) & (clone_df['epitope'] == e)])\n",
    "                freqs_2 = get_empirical_distribution(clone_df[(clone_df['subject'] == s2) & (clone_df['epitope'] == e)])\n",
    "                e_list.extend(get_sinkhorn_objects(freqs_1, freqs_2, sub_dist_df)['distance'])\n",
    "    subjects_per_epitope[e] = e_list\n",
    "                "
   ]
  },
  {
   "cell_type": "markdown",
   "metadata": {},
   "source": [
    "# Per-subject variation of Sinkhorn distances within an epitope"
   ]
  },
  {
   "cell_type": "code",
   "execution_count": null,
   "metadata": {},
   "outputs": [],
   "source": [
    "# Boxplot of per-subject variation of Sinkhorn distance within each epitope.\n",
    "# Note that each subject is compared to each other subject, so that the distances in each group are correlated.\n",
    "d = dict((epitope, subjects_per_epitope[epitope]) for epitope in epitopes)\n",
    "labels, data = d.keys(), d.values()\n",
    "\n",
    "fig, ax = plt.subplots(figsize=(10, 6))\n",
    "ax.set_facecolor('white')\n",
    "plt.grid(b=True, which='major', color='lightgrey', linestyle='-', zorder=0)\n",
    "ax.spines['right'].set_visible(False)\n",
    "ax.spines['top'].set_visible(False)\n",
    "ax.spines['left'].set_visible(False)\n",
    "ax.spines['bottom'].set_visible(False)\n",
    "plt.boxplot(data, zorder=3)\n",
    "plt.xticks(range(1, len(labels) + 1), labels)\n",
    "\n",
    "mean_epitope_distances = [np.mean(d[e]) for e in d.keys()]\n",
    "\n",
    "# Look at how sample size of each epitope-specific dataset influences the mean\n",
    "# within-epitope Sinkhorn distance\n",
    "fig, ax = plt.subplots(figsize=(10, 6))\n",
    "ax.set_facecolor('white')\n",
    "plt.grid(b=True, which='major', color='lightgrey', linestyle='-', zorder=0)\n",
    "ax.spines['right'].set_visible(False)\n",
    "ax.spines['top'].set_visible(False)\n",
    "ax.spines['left'].set_visible(False)\n",
    "ax.spines['bottom'].set_visible(False)\n",
    "plt.xlabel('Sample size')\n",
    "plt.ylabel('Mean Sinkhorn distance')\n",
    "plt.scatter(y=mean_epitope_distances, x=e_count.values())\n",
    "for i, txt in enumerate(epitopes):\n",
    "    ax.annotate(txt, xy=(list(e_count.values())[i], mean_epitope_distances[i]))"
   ]
  },
  {
   "cell_type": "code",
   "execution_count": null,
   "metadata": {},
   "outputs": [],
   "source": [
    "Counter(clone_df['epitope'])\n",
    "#PB1 has the most entries in the data, so let's examine V gene variation within PB1.\n",
    "\n",
    "Counter(clone_df['subject'])\n",
    "#Subject 72 has the most entries as well, though conditioning on an (epitope, subject) pair doesn't yield that interesting of a distribution \n",
    "\n",
    "pb1_df = clone_df[clone_df['epitope'] == 'PB1']\n"
   ]
  },
  {
   "cell_type": "code",
   "execution_count": null,
   "metadata": {
    "scrolled": true
   },
   "outputs": [],
   "source": [
    "def get_epitope_items(full_df, epitope, gene):\n",
    "    \"\"\" For a given epitope, return the epitope-specific dataset, empirical distribution, and list of unique genes \"\"\"\n",
    "    epitope_df = full_df[full_df['epitope'] == epitope]\n",
    "    epitope_df.index = pd.RangeIndex(len(epitope_df))\n",
    "    epitope_freqs = get_empirical_distribution(epitope_df)\n",
    "    epitope_genes = sorted(np.unique(epitope_df[gene]))\n",
    "    return epitope_df, epitope_freqs, epitope_genes\n",
    "    \n",
    "def run_gene_analysis(full_df, epitopes, gene):\n",
    "    \"\"\" For a given pair of epitopes, compute a set of gene-specific matrices, including:\n",
    "        'transport_averages': the average transport mass between each gene pair\n",
    "        'transport_maxes': the maximum transport mass between each gene pair\n",
    "        'transport_counts': the total number of times nonzero mass was transferred between each gene pair\n",
    "        'hadamard_averages': the average hadamard entry for each gene pair\n",
    "    \"\"\"\n",
    "    epitope1_df, epitope1_freqs, epitope1_genes = get_epitope_items(full_df=clone_df, epitope=epitopes[0], gene=gene)\n",
    "    epitope2_df, epitope2_freqs, epitope2_genes = get_epitope_items(full_df=clone_df, epitope=epitopes[1], gene=gene)\n",
    "\n",
    "    sub_dist_df = dist_df.iloc[clone_df.index[clone_df['epitope'] == epitopes[0]], \\\n",
    "                               clone_df.index[clone_df['epitope'] == epitopes[1]]]\n",
    "\n",
    "    sinkhorn_objs = get_sinkhorn_objects(epitope1_freqs, epitope2_freqs, sub_dist_df)\n",
    "    P = sinkhorn_objs['matrix']\n",
    "    H = sinkhorn_objs['Hadamard'].as_matrix()\n",
    "\n",
    "    gene_transport_averages = pd.DataFrame(columns=epitope2_genes, dtype=\"float\")\n",
    "    gene_transport_maxes = pd.DataFrame(columns=epitope2_genes, dtype=\"float\")\n",
    "    gene_transport_counts = pd.DataFrame(columns=epitope2_genes, dtype=\"float\")\n",
    "    gene_hadamard_averages = pd.DataFrame(columns=epitope2_genes, dtype=\"float\")\n",
    "\n",
    "    for gene1 in epitope1_genes:\n",
    "        gene1_indices = epitope1_df.index[epitope1_df[gene] == gene1].values\n",
    "        for gene2 in epitope2_genes:\n",
    "            gene2_indices = epitope2_df.index[epitope2_df[gene] == gene2].values\n",
    "            P_counts = 0\n",
    "            P_subs = []\n",
    "            H_subs = []\n",
    "            for i in gene1_indices:\n",
    "                for j in gene2_indices:\n",
    "                    # Append a transport mass each time we see a row index i corresponding to gene1,\n",
    "                    # and column index j corresponding to gene2.\n",
    "                    P_subs.append(P[i, j])\n",
    "                    H_subs.append(H[i, j])\n",
    "\n",
    "                    P_counts += 1\n",
    "            gene_transport_averages.loc[gene1, gene2] = np.mean(P_subs)\n",
    "            gene_transport_maxes.loc[gene1, gene2] = np.max(P_subs)\n",
    "            gene_transport_counts.loc[gene1, gene2] = P_counts\n",
    "            gene_hadamard_averages.loc[gene1, gene2] = np.mean(H_subs)\n",
    "    return dict([('transport_averages', gene_transport_averages), \\\n",
    "                 ('transport_maxes', gene_transport_maxes), \\\n",
    "                 ('transport_counts', gene_transport_counts), \\\n",
    "                 ('hadamard_averages', gene_hadamard_averages)])\n",
    "\n",
    "def plot_gene_analysis_results(gene_items, width=20, height=15):\n",
    "    \"\"\" Create a heatmap of each matrix result from run_gene_analysis \"\"\"\n",
    "    \n",
    "    def plot_matrix(mat, width=width, height=height, fmt=\".1f\"):\n",
    "        fig = plt.figure(figsize=(width, height))\n",
    "        ax1 = plt.subplot2grid((width,width), (0,0), colspan=19, rowspan=19)\n",
    "        ax2 = plt.subplot2grid((width,width), (19,0), colspan=19, rowspan=1)\n",
    "        ax3 = plt.subplot2grid((width,width), (0,19), colspan=1, rowspan=19)\n",
    "        \n",
    "        sns.heatmap(mat, ax=ax1, cbar=False)\n",
    "        ax1.xaxis.tick_top()\n",
    "        ax1.set_xticklabels(mat.columns,rotation=40)\n",
    "\n",
    "        sns.heatmap((pd.DataFrame(mat.sum(axis=0))).transpose(), ax=ax2,  annot=True, fmt=fmt, cbar=False, xticklabels=False, yticklabels=False)\n",
    "        sns.heatmap(pd.DataFrame(mat.sum(axis=1)), ax=ax3, annot=True, cbar=False, xticklabels=False, yticklabels=False, fmt=fmt)\n",
    "    \n",
    "    # Look at average Hadamard (work) value for each (gene_i, gene_j) pair\n",
    "    plot_matrix(gene_items['hadamard_averages'], fmt=\".1f\")\n",
    "    # Look at average transport mass for each (gene_i, gene_j) pair\n",
    "    plot_matrix(gene_items['transport_averages'], fmt=\".3f\")\n",
    "    # Look at maximum transport mass for each (gene_i, gene_j) pair\n",
    "    plot_matrix(gene_items['transport_maxes'], fmt=\".3f\")\n",
    "    # Look at how frequently a given (gene_i, gene_j) pair was observed\n",
    "    plot_matrix(gene_items['transport_counts'], fmt=\".0f\")"
   ]
  },
  {
   "cell_type": "markdown",
   "metadata": {},
   "source": [
    "# VB gene matrices"
   ]
  },
  {
   "cell_type": "code",
   "execution_count": null,
   "metadata": {},
   "outputs": [],
   "source": [
    "\n",
    "# F2 and M45 appear to be the most divergent epitopes. Let's investigate...\n",
    "vb_gene_items = run_gene_analysis(full_df=clone_df, epitopes=('F2', 'M45'), gene='vb_gene')\n",
    "plot_gene_analysis_results(vb_gene_items)"
   ]
  },
  {
   "cell_type": "markdown",
   "metadata": {},
   "source": [
    "# VA gene matrices"
   ]
  },
  {
   "cell_type": "code",
   "execution_count": null,
   "metadata": {},
   "outputs": [],
   "source": [
    "va_gene_items = run_gene_analysis(full_df=clone_df, epitopes=('F2', 'M45'), gene='va_gene')\n",
    "plot_gene_analysis_results(va_gene_items)"
   ]
  },
  {
   "cell_type": "markdown",
   "metadata": {},
   "source": [
    "# JB gene matrices"
   ]
  },
  {
   "cell_type": "code",
   "execution_count": null,
   "metadata": {},
   "outputs": [],
   "source": [
    "jb_gene_items = run_gene_analysis(full_df=clone_df, epitopes=('F2', 'M45'), gene='jb_gene')\n",
    "plot_gene_analysis_results(jb_gene_items)"
   ]
  },
  {
   "cell_type": "markdown",
   "metadata": {},
   "source": [
    "# JA gene matrices"
   ]
  },
  {
   "cell_type": "code",
   "execution_count": null,
   "metadata": {},
   "outputs": [],
   "source": [
    "ja_gene_items = run_gene_analysis(full_df=clone_df, epitopes=('F2', 'M45'), gene='ja_gene')\n",
    "plot_gene_analysis_results(ja_gene_items)"
   ]
  },
  {
   "cell_type": "code",
   "execution_count": null,
   "metadata": {},
   "outputs": [],
   "source": [
    "v_gene_pair_items = run_gene_analysis(full_df=clone_df, epitopes=('F2', 'M45'), gene='v_gene_pair')\n",
    "plot_gene_analysis_results(v_gene_pair_items)"
   ]
  },
  {
   "cell_type": "code",
   "execution_count": null,
   "metadata": {},
   "outputs": [],
   "source": [
    "j_gene_pair_items = run_gene_analysis(full_df=clone_df, epitopes=('F2', 'M45'), gene='j_gene_pair')\n",
    "plot_gene_analysis_results(j_gene_pair_items)"
   ]
  },
  {
   "cell_type": "code",
   "execution_count": null,
   "metadata": {},
   "outputs": [],
   "source": []
  }
 ],
 "metadata": {
  "kernelspec": {
   "display_name": "Python 2",
   "language": "python",
   "name": "python2"
  },
  "language_info": {
   "codemirror_mode": {
    "name": "ipython",
    "version": 2
   },
   "file_extension": ".py",
   "mimetype": "text/x-python",
   "name": "python",
   "nbconvert_exporter": "python",
   "pygments_lexer": "ipython2",
   "version": "2.7.16"
  }
 },
 "nbformat": 4,
 "nbformat_minor": 2
}
